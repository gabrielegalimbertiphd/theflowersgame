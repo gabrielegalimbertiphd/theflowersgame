{
 "cells": [
  {
   "cell_type": "code",
   "execution_count": 2,
   "id": "c427ecf9",
   "metadata": {},
   "outputs": [
    {
     "name": "stdout",
     "output_type": "stream",
     "text": [
      "L'immagine './ipomea.jpg' è già almeno 500px. Nessuna modifica necessaria.\n",
      "L'immagine './peonia.jpg' è già almeno 500px. Nessuna modifica necessaria.\n",
      "L'immagine './margherita.jpg' è stata ridimensionata a 684x500.\n",
      "L'immagine './mimosa.jpeg' è stata ridimensionata a 753x500.\n",
      "L'immagine './trifoglio.jpg' è già almeno 500px. Nessuna modifica necessaria.\n",
      "L'immagine './gelsomino.jpg' è già almeno 500px. Nessuna modifica necessaria.\n",
      "L'immagine './papavero.jpg' è già almeno 500px. Nessuna modifica necessaria.\n",
      "L'immagine './aglio.jpg' è già almeno 500px. Nessuna modifica necessaria.\n",
      "L'immagine './ortensia.png' è già almeno 500px. Nessuna modifica necessaria.\n",
      "L'immagine './ciclamino.jpg' è stata ridimensionata a 886x499.\n",
      "L'immagine './calendula.jpg' è già almeno 500px. Nessuna modifica necessaria.\n",
      "L'immagine './orchidea.jpg' è stata ridimensionata a 803x500.\n",
      "L'immagine './geranio.jpg' è stata ridimensionata a 666x500.\n",
      "L'immagine './iris.jpg' è già almeno 500px. Nessuna modifica necessaria.\n",
      "L'immagine './girasole.jpeg' è stata ridimensionata a 670x500.\n",
      "L'immagine './fiordaliso.jpg' è stata ridimensionata a 811x500.\n",
      "L'immagine './viola.jpeg' è già almeno 500px. Nessuna modifica necessaria.\n",
      "L'immagine './garofano.jpg' è già almeno 500px. Nessuna modifica necessaria.\n",
      "L'immagine './crisantemo.jpg' è stata ridimensionata a 753x500.\n",
      "L'immagine './narciso.jpg' è già almeno 500px. Nessuna modifica necessaria.\n",
      "L'immagine './tulipano.png' è già almeno 500px. Nessuna modifica necessaria.\n",
      "L'immagine './azalea.jpg' è già almeno 500px. Nessuna modifica necessaria.\n"
     ]
    },
    {
     "name": "stderr",
     "output_type": "stream",
     "text": [
      "/var/folders/fs/5ht8f23x2yn0_5g4w3_qd22c0000gn/T/ipykernel_88523/2743712250.py:26: DeprecationWarning: ANTIALIAS is deprecated and will be removed in Pillow 10 (2023-07-01). Use Resampling.LANCZOS instead.\n",
      "  resized_img = img.resize((new_width, new_height), Image.ANTIALIAS)\n"
     ]
    },
    {
     "name": "stdout",
     "output_type": "stream",
     "text": [
      "L'immagine './primula.jpg' è stata ridimensionata a 724x500.\n",
      "L'immagine './glicine.jpg' è già almeno 500px. Nessuna modifica necessaria.\n",
      "L'immagine './bucaneve.jpeg' è stata ridimensionata a 892x500.\n",
      "L'immagine './lavanda.jpg' è già almeno 500px. Nessuna modifica necessaria.\n",
      "L'immagine './erica.png' è già almeno 500px. Nessuna modifica necessaria.\n",
      "L'immagine './gilio.jpg' è già almeno 500px. Nessuna modifica necessaria.\n",
      "L'immagine './rosa.jpeg' è già almeno 500px. Nessuna modifica necessaria.\n",
      "L'immagine './dentedileone.jpg' è stata ridimensionata a 673x500.\n",
      "L'immagine './magnolia.jpg' è già almeno 500px. Nessuna modifica necessaria.\n",
      "L'immagine './fiorediciliegio.jpg' è già almeno 500px. Nessuna modifica necessaria.\n",
      "L'immagine './dalia.jpeg' è già almeno 500px. Nessuna modifica necessaria.\n",
      "L'immagine './fiorediloto.png' è già almeno 500px. Nessuna modifica necessaria.\n"
     ]
    }
   ],
   "source": [
    "import os\n",
    "from PIL import Image\n",
    "\n",
    "def resize_image_if_needed(image_path, min_size=500):\n",
    "    \"\"\"Ridimensiona un'immagine se altezza o larghezza sono inferiori a `min_size`.\n",
    "    \n",
    "    Args:\n",
    "        image_path (str): Percorso dell'immagine da controllare e ridimensionare.\n",
    "        min_size (int): Dimensione minima richiesta per altezza e larghezza.\n",
    "    \"\"\"\n",
    "    try:\n",
    "        with Image.open(image_path) as img:\n",
    "            width, height = img.size\n",
    "\n",
    "            # Verifica se l'immagine deve essere ridimensionata\n",
    "            if height >= min_size:\n",
    "                print(f\"L'immagine '{image_path}' è già almeno {min_size}px. Nessuna modifica necessaria.\")\n",
    "                return\n",
    "\n",
    "            # Calcola il nuovo rapporto di scala\n",
    "            scaling_factor = min_size / height\n",
    "            new_width = int(width * scaling_factor)\n",
    "            new_height = int(height * scaling_factor)\n",
    "\n",
    "            # Ridimensiona e salva l'immagine\n",
    "            resized_img = img.resize((new_width, new_height), Image.ANTIALIAS)\n",
    "            resized_img.save(image_path)\n",
    "            print(f\"L'immagine '{image_path}' è stata ridimensionata a {new_width}x{new_height}.\")\n",
    "    except Exception as e:\n",
    "        print(f\"Errore durante il ridimensionamento dell'immagine '{image_path}': {e}\")\n",
    "\n",
    "def process_images_in_directory(directory, min_size=500):\n",
    "    \"\"\"Processa tutte le immagini JPG, JPEG, e PNG in una directory.\n",
    "\n",
    "    Args:\n",
    "        directory (str): Il percorso della directory da elaborare.\n",
    "        min_size (int): Dimensione minima richiesta per altezza e larghezza.\n",
    "    \"\"\"\n",
    "    for filename in os.listdir(directory):\n",
    "        if filename.lower().endswith(('.jpg', '.jpeg', '.png')):\n",
    "            image_path = os.path.join(directory, filename)\n",
    "            resize_image_if_needed(image_path, min_size)\n",
    "\n",
    "# Esempio di utilizzo\n",
    "directory_path = \"./\"  # Sostituisci con il percorso della tua directory\n",
    "process_images_in_directory(directory_path)\n"
   ]
  },
  {
   "cell_type": "code",
   "execution_count": null,
   "id": "85d30f89",
   "metadata": {},
   "outputs": [],
   "source": []
  }
 ],
 "metadata": {
  "kernelspec": {
   "display_name": "Python 3 (ipykernel)",
   "language": "python",
   "name": "python3"
  },
  "language_info": {
   "codemirror_mode": {
    "name": "ipython",
    "version": 3
   },
   "file_extension": ".py",
   "mimetype": "text/x-python",
   "name": "python",
   "nbconvert_exporter": "python",
   "pygments_lexer": "ipython3",
   "version": "3.9.13"
  }
 },
 "nbformat": 4,
 "nbformat_minor": 5
}
